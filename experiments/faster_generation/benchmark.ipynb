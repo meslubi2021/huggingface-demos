{
 "cells": [
  {
   "cell_type": "markdown",
   "id": "5fb995c4-b1f8-4680-b948-03d98f64f28d",
   "metadata": {},
   "source": [
    "## Benchmark Run Results\n",
    "\n",
    "This purpose of this notebook is to keep track of Assisted Generation Runs. The results allow to set a baseline (for this specific hardware) and compare it to adaptations in assisted generation. "
   ]
  },
  {
   "cell_type": "markdown",
   "id": "d7f01130-1abc-47bd-b38f-fce49d0e5365",
   "metadata": {},
   "source": [
    "### Environment / Settings\n",
    "\n",
    "Hardware: \n",
    "* CPU: Intel(R) Core(TM) i9-10920X CPU @ 3.50GHz\n",
    "* GPU: NVIDIA RTX A4000 (16 GB)\n",
    "* RAM: 125 GB\n",
    "\n",
    "Settings:\n",
    "* `--num-samples`: 100 (default)\n",
    "* `--max-gpu-memory`: 16\n",
    "  "
   ]
  },
  {
   "cell_type": "markdown",
   "id": "6cf376f4-01df-45bf-9cfc-f9f4b85813f2",
   "metadata": {
    "editable": true,
    "slideshow": {
     "slide_type": ""
    },
    "tags": []
   },
   "source": [
    "### Experiments: Open\n",
    "\n",
    "| model | aux_model | dtype | OG$^{1}$ Avg. time per token | AS$^{2}$ Avg. time per token | Ratio | OG / AS Time  | Mismatches | Comments |\n",
    "|-|-|-|-|-|-|-|-|-|\n",
    "|facebook/opt-6.7b|facebook/opt-125m|fp16|39.09|20.88|1.87|07:55 / 04:14|7|||\n",
    "|facebook/opt-6.7b|facebook/opt-125m|bf16|38.71|21.17|1.83|07:43 / 04:13|49|||\n",
    "|facebook/opt-6.7b|facebook/opt-125m|int8|134.45|46.73|2.88|27:19 / 09:26|54|||\n",
    "|facebook/opt-13b|facebook/opt-125m|int8|169.43|58.05|2.92|34:18 / 11:52|57|||\n",
    "\n",
    "$^{1}$ Original Model\n",
    "$^{2}$ Assisted Model"
   ]
  }
 ],
 "metadata": {
  "kernelspec": {
   "display_name": "Python 3 (ipykernel)",
   "language": "python",
   "name": "python3"
  },
  "language_info": {
   "codemirror_mode": {
    "name": "ipython",
    "version": 3
   },
   "file_extension": ".py",
   "mimetype": "text/x-python",
   "name": "python",
   "nbconvert_exporter": "python",
   "pygments_lexer": "ipython3",
   "version": "3.10.12"
  }
 },
 "nbformat": 4,
 "nbformat_minor": 5
}
